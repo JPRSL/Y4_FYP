{
 "cells": [
  {
   "cell_type": "code",
   "execution_count": 1,
   "id": "2ec83164",
   "metadata": {},
   "outputs": [],
   "source": [
    "import pandas as pd\n",
    "import glob"
   ]
  },
  {
   "cell_type": "code",
   "execution_count": null,
   "id": "fa6de750",
   "metadata": {},
   "outputs": [],
   "source": [
    "count = 0\n",
    "# Read all CSV files in the specified directory\n",
    "for folder in [\"2010-2011\", \"2011-2012\"]:\n",
    "    for file in glob.glob(f\"./processed_data/{folder}/*.csv\"):\n",
    "        df = pd.read_csv(file)\n",
    "        if count == 0:\n",
    "            df_agg = df\n",
    "        else:\n",
    "            df_agg = pd.concat([df_agg, df])\n",
    "        \n",
    "        count += 1\n",
    "df_agg.to_csv(\"./model_input_data/2010-2012.csv\", index=False)"
   ]
  },
  {
   "cell_type": "code",
   "execution_count": null,
   "id": "63ef4a17",
   "metadata": {},
   "outputs": [],
   "source": [
    "count = 0\n",
    "# Read all CSV files in the specified directory\n",
    "for file in glob.glob(\"./processed_data/2012-2013/*.csv\"):\n",
    "    df = pd.read_csv(file)\n",
    "    if count == 0:\n",
    "        df_agg = df\n",
    "    else:\n",
    "        df_agg = pd.concat([df_agg, df])\n",
    "    \n",
    "    count += 1\n",
    "df_agg.to_csv(\"./model_input_data/2012-2013.csv\", index=False)"
   ]
  },
  {
   "cell_type": "code",
   "execution_count": 30,
   "id": "8df87b33",
   "metadata": {},
   "outputs": [],
   "source": [
    "dfs = []\n",
    "# Read all CSV files in the specified directory\n",
    "for folder in [\"2010-2011\", \"2011-2012\"]:\n",
    "    for file in glob.glob(f\"./processed_data/{folder}/*.csv\"):\n",
    "        df = pd.read_csv(file)\n",
    "        dfs.append(df)\n",
    "\n",
    "df_agg = pd.concat(dfs, ignore_index=True)\n",
    "df_agg = df_agg.sort_values(by=[\"Customer\", \"datetime\"])\n",
    "\n",
    "# Restrict time from 5am to 8pm\n",
    "df_agg[\"datetime\"] = pd.to_datetime(df_agg[\"datetime\"])\n",
    "df_agg = df_agg[(df_agg[\"datetime\"].dt.hour >= 5) & (df_agg[\"datetime\"].dt.hour <= 20)]\n",
    "\n",
    "# Keep relevant columns\n",
    "df_agg = df_agg[[\"Customer\", \"datetime\", \"GG\", \"NL\"]]\n",
    "\n",
    "df_agg.to_csv(\"./model_input_data/2010-2012_combined.csv\", index=False)"
   ]
  },
  {
   "cell_type": "code",
   "execution_count": 31,
   "id": "fdba2b44",
   "metadata": {},
   "outputs": [],
   "source": [
    "dfs = []\n",
    "# Read all CSV files in the specified directory\n",
    "for file in glob.glob(\"./processed_data/2012-2013/*.csv\"):\n",
    "        df = pd.read_csv(file)\n",
    "        dfs.append(df)\n",
    "\n",
    "df_agg = pd.concat(dfs, ignore_index=True)\n",
    "df_agg = df_agg.sort_values(by=[\"Customer\", \"datetime\"])\n",
    "\n",
    "# Restrict time from 5am to 8pm\n",
    "df_agg[\"datetime\"] = pd.to_datetime(df_agg[\"datetime\"])\n",
    "df_agg = df_agg[(df_agg[\"datetime\"].dt.hour >= 5) & (df_agg[\"datetime\"].dt.hour <= 20)]\n",
    "\n",
    "# Keep relevant columns\n",
    "df_agg = df_agg[[\"Customer\", \"datetime\", \"GG\", \"NL\"]]\n",
    "\n",
    "df_agg.to_csv(\"./model_input_data/2012-2013_combined.csv\", index=False)"
   ]
  },
  {
   "cell_type": "code",
   "execution_count": 2,
   "id": "74db81af",
   "metadata": {},
   "outputs": [
    {
     "name": "stdout",
     "output_type": "stream",
     "text": [
      "1 summer 1\n",
      "2 summer 1\n",
      "3 autumn 2\n",
      "4 autumn 2\n",
      "5 autumn 2\n",
      "6 winter 3\n",
      "7 winter 3\n",
      "8 winter 3\n",
      "9 spring 4\n",
      "10 spring 4\n",
      "11 spring 4\n",
      "12 summer 1\n"
     ]
    }
   ],
   "source": [
    "for i in range(1, 13):\n",
    "    season_number = i % 12 // 3 + 1\n",
    "    season_name = \"summer\" if i in [12, 1, 2] else \"autumn\" if i in [3, 4, 5] else \"winter\" if i in [6, 7, 8] else \"spring\"\n",
    "    print(f\"{i} {season_name} {season_number}\")"
   ]
  },
  {
   "cell_type": "code",
   "execution_count": 33,
   "id": "beebf7ed",
   "metadata": {},
   "outputs": [
    {
     "name": "stdout",
     "output_type": "stream",
     "text": [
      "Processing file: ./model_input_data/2012-2013_combined.csv\n",
      "Processing file: ./model_input_data/2010-2012_combined.csv\n"
     ]
    }
   ],
   "source": [
    "# Add feature columns\n",
    "for file in glob.glob(\"./model_input_data/*.csv\"):\n",
    "    df = pd.read_csv(file)\n",
    "    print(f\"Processing file: {file}\")\n",
    "\n",
    "    df[\"datetime\"] = pd.to_datetime(df[\"datetime\"])  # Ensure datetime is in correct format\n",
    "    \n",
    "    df[\"NL_t-24\"] = df[\"NL\"].shift(48)  # Shift by 48 half-hours (1 day)\n",
    "    df[\"NL_t-24*7\"] = df[\"NL\"].shift(48*7)  # Shift by 336 half-hours (7 days)\n",
    "    df[\"NL_t-24*30\"] = df[\"NL\"].shift(48*30)  # Shift by 1440 half-hours (30 days)\n",
    "    df[\"Month\"] = df[\"datetime\"].dt.month # Extract month from datetime\n",
    "    df[\"Season\"] = (df[\"Month\"] % 12) // 3 + 1 # Convert month to season (1-4)\n",
    "    df[\"is_weekend\"] = (df[\"datetime\"].dt.weekday >= 5).astype(int)  # 1 if Saturday or Sunday\n",
    "    \n",
    "    # Save the updated DataFrame back to CSV\n",
    "    df.to_csv(file, index=False)"
   ]
  },
  {
   "cell_type": "code",
   "execution_count": 9,
   "id": "7bc7f34e",
   "metadata": {},
   "outputs": [
    {
     "name": "stdout",
     "output_type": "stream",
     "text": [
      "File ./processed_data/2012-2013/NL_2012-2013_2.csv has missing dates: 284 unique dates found.\n"
     ]
    }
   ],
   "source": [
    "for folder in [\"2010-2011\", \"2011-2012\", \"2012-2013\"]:\n",
    "    for file in glob.glob(f\"./processed_data/{folder}/*.csv\"):\n",
    "        # Print unique dates in the 'datetime' column\n",
    "        df = pd.read_csv(file)\n",
    "        df[\"datetime\"] = pd.to_datetime(df[\"datetime\"])\n",
    "        unique_dates = df[\"datetime\"].dt.date.unique()\n",
    "\n",
    "        # Print files with missing dates\n",
    "        if len(unique_dates) < 365:\n",
    "            print(f\"File {file} has missing dates: {len(unique_dates)} unique dates found.\")\n",
    "\n",
    "        #print(f\"Unique dates in {file}: {unique_dates}\")\n",
    "        #print(f\"Number of unique dates in {file}: {len(unique_dates)}\")"
   ]
  },
  {
   "cell_type": "code",
   "execution_count": 10,
   "id": "aabc1e5a",
   "metadata": {},
   "outputs": [],
   "source": [
    "dfs = []\n",
    "# Read all CSV files in the specified directory\n",
    "for folder in [\"2010-2011\", \"2011-2012\", \"2012-2013\"]:\n",
    "    for file in glob.glob(f\"./processed_data/{folder}/*.csv\"):\n",
    "        df = pd.read_csv(file)\n",
    "        dfs.append(df)\n",
    "\n",
    "df_agg = pd.concat(dfs, ignore_index=True)\n",
    "df_agg = df_agg.sort_values(by=[\"Customer\", \"datetime\"])\n",
    "df_agg.to_csv(\"./model_input_data/2010-2013_combined.csv\", index=False)\n",
    "\n",
    "# Keep relevant columns\n",
    "df_agg = df_agg[[\"Customer\", \"datetime\", \"GG\", \"NL\"]]\n",
    "\n",
    "#df_agg[\"datetime\"] = pd.to_datetime(df_agg[\"datetime\"])  # Ensure datetime is in correct format\n",
    "\n",
    "# Add feature columns\n",
    "#df_agg[\"NL_t-24\"] = df_agg.groupby(\"Customer\")[\"NL\"].shift(48)  # Shift by 48 half-hours (1 day)\n",
    "#df_agg[\"NL_t-24*7\"] = df_agg.groupby(\"Customer\")[\"NL\"].shift(48*7)  # Shift by 336 half-hours (7 days)\n",
    "#df_agg[\"NL_t-24*30\"] = df_agg.groupby(\"Customer\")[\"NL\"].shift(48*30)  # Shift by 1440 half-hours (30 days)\n",
    "\n",
    "#df_agg[\"Month\"] = df_agg[\"datetime\"].dt.month  # Extract month from datetime\n",
    "#df_agg[\"Season\"] = (df_agg[\"Month\"] % 12) // 3 + 1  # Convert month to season (1-4)\n",
    "#df_agg[\"is_weekend\"] = (df_agg[\"datetime\"].dt.weekday >= 5).astype(int)  # 1 if Saturday or Sunday\n",
    "\n",
    "# Restrict time from 5am to 8pm\n",
    "#df_agg = df_agg[(df_agg[\"datetime\"].dt.hour >= 5) & (df_agg[\"datetime\"].dt.hour <= 20)]\n",
    "\n",
    "#df_train = df_agg[df_agg[\"datetime\"] < \"2012-07-01\"]\n",
    "#df_test = df_agg[df_agg[\"datetime\"] >= \"2012-07-01\"]\n",
    "#df_train.to_csv(\"./model_input_data/2010-2012.csv\", index=False)\n",
    "#df_test.to_csv(\"./model_input_data/2012-2013.csv\", index=False)\n",
    "df_agg.to_csv(\"./model_input_data/2010-2013_processed.csv\", index=False)"
   ]
  },
  {
   "cell_type": "code",
   "execution_count": 11,
   "id": "ae2b1c86",
   "metadata": {},
   "outputs": [],
   "source": [
    "#df_train = pd.read_csv(\"./model_input_data/2010-2012.csv\")\n",
    "#df_test = pd.read_csv(\"./model_input_data/2012-2013.csv\")"
   ]
  },
  {
   "cell_type": "code",
   "execution_count": 12,
   "id": "0507b8d7",
   "metadata": {},
   "outputs": [],
   "source": [
    "#df_train.head()"
   ]
  },
  {
   "cell_type": "code",
   "execution_count": 13,
   "id": "62e19c69",
   "metadata": {},
   "outputs": [],
   "source": [
    "#df_test.head()"
   ]
  },
  {
   "cell_type": "code",
   "execution_count": 14,
   "id": "ccd391df",
   "metadata": {},
   "outputs": [
    {
     "data": {
      "application/vnd.microsoft.datawrangler.viewer.v0+json": {
       "columns": [
        {
         "name": "index",
         "rawType": "int64",
         "type": "integer"
        },
        {
         "name": "Customer",
         "rawType": "int64",
         "type": "integer"
        },
        {
         "name": "datetime",
         "rawType": "object",
         "type": "string"
        },
        {
         "name": "GG",
         "rawType": "float64",
         "type": "float"
        },
        {
         "name": "NL",
         "rawType": "float64",
         "type": "float"
        }
       ],
       "ref": "90b32d61-5eff-4baf-8ea9-9cc858ed2df6",
       "rows": [
        [
         "0",
         "1",
         "2010-07-01 00:00:00",
         "0.0",
         "1.2"
        ],
        [
         "1",
         "1",
         "2010-07-01 00:30:00",
         "0.0",
         "1.553"
        ],
        [
         "2",
         "1",
         "2010-07-01 01:00:00",
         "0.0",
         "1.715"
        ],
        [
         "3",
         "1",
         "2010-07-01 01:30:00",
         "0.0",
         "1.339"
        ],
        [
         "4",
         "1",
         "2010-07-01 02:00:00",
         "0.0",
         "0.865"
        ]
       ],
       "shape": {
        "columns": 4,
        "rows": 5
       }
      },
      "text/html": [
       "<div>\n",
       "<style scoped>\n",
       "    .dataframe tbody tr th:only-of-type {\n",
       "        vertical-align: middle;\n",
       "    }\n",
       "\n",
       "    .dataframe tbody tr th {\n",
       "        vertical-align: top;\n",
       "    }\n",
       "\n",
       "    .dataframe thead th {\n",
       "        text-align: right;\n",
       "    }\n",
       "</style>\n",
       "<table border=\"1\" class=\"dataframe\">\n",
       "  <thead>\n",
       "    <tr style=\"text-align: right;\">\n",
       "      <th></th>\n",
       "      <th>Customer</th>\n",
       "      <th>datetime</th>\n",
       "      <th>GG</th>\n",
       "      <th>NL</th>\n",
       "    </tr>\n",
       "  </thead>\n",
       "  <tbody>\n",
       "    <tr>\n",
       "      <th>0</th>\n",
       "      <td>1</td>\n",
       "      <td>2010-07-01 00:00:00</td>\n",
       "      <td>0.0</td>\n",
       "      <td>1.200</td>\n",
       "    </tr>\n",
       "    <tr>\n",
       "      <th>1</th>\n",
       "      <td>1</td>\n",
       "      <td>2010-07-01 00:30:00</td>\n",
       "      <td>0.0</td>\n",
       "      <td>1.553</td>\n",
       "    </tr>\n",
       "    <tr>\n",
       "      <th>2</th>\n",
       "      <td>1</td>\n",
       "      <td>2010-07-01 01:00:00</td>\n",
       "      <td>0.0</td>\n",
       "      <td>1.715</td>\n",
       "    </tr>\n",
       "    <tr>\n",
       "      <th>3</th>\n",
       "      <td>1</td>\n",
       "      <td>2010-07-01 01:30:00</td>\n",
       "      <td>0.0</td>\n",
       "      <td>1.339</td>\n",
       "    </tr>\n",
       "    <tr>\n",
       "      <th>4</th>\n",
       "      <td>1</td>\n",
       "      <td>2010-07-01 02:00:00</td>\n",
       "      <td>0.0</td>\n",
       "      <td>0.865</td>\n",
       "    </tr>\n",
       "  </tbody>\n",
       "</table>\n",
       "</div>"
      ],
      "text/plain": [
       "   Customer             datetime   GG     NL\n",
       "0         1  2010-07-01 00:00:00  0.0  1.200\n",
       "1         1  2010-07-01 00:30:00  0.0  1.553\n",
       "2         1  2010-07-01 01:00:00  0.0  1.715\n",
       "3         1  2010-07-01 01:30:00  0.0  1.339\n",
       "4         1  2010-07-01 02:00:00  0.0  0.865"
      ]
     },
     "execution_count": 14,
     "metadata": {},
     "output_type": "execute_result"
    }
   ],
   "source": [
    "df = pd.read_csv(\"./model_input_data/2010-2013_processed.csv\")\n",
    "df.head()"
   ]
  },
  {
   "cell_type": "code",
   "execution_count": 15,
   "id": "e99214f8",
   "metadata": {},
   "outputs": [
    {
     "name": "stdout",
     "output_type": "stream",
     "text": [
      "Processing community_1 with customer IDs: range(1, 76)\n",
      "Processing community_2 with customer IDs: range(76, 151)\n",
      "Processing community_3 with customer IDs: range(151, 226)\n",
      "Processing community_4 with customer IDs: range(226, 301)\n"
     ]
    }
   ],
   "source": [
    "# Split data into 4 communities of 75 customers\n",
    "communities = {\n",
    "    \"community_1\": range(1, 76),\n",
    "    \"community_2\": range(76, 151),\n",
    "    \"community_3\": range(151, 226),\n",
    "    \"community_4\": range(226, 301),\n",
    "}\n",
    "\n",
    "for community, cid in communities.items():\n",
    "    # Select customers in the current community\n",
    "    print(f\"Processing {community} with customer IDs: {cid}\")\n",
    "\n",
    "    df_community = df[df[\"Customer\"].isin(cid)]\n",
    "    df_community.to_csv(f\"./model_input_data/{community}.csv\", index=False)\n",
    "\n",
    "    df_community = df_community.groupby(\"datetime\")[[\"Customer\", \"GG\", \"NL\"]].sum().reset_index()\n",
    "    df_community.to_csv(f\"./model_input_data/{community}_agg.csv\", index=False)\n",
    "    df_community = df_community.drop(columns=[\"Customer\"])\n",
    "\n",
    "    df_community[\"datetime\"] = pd.to_datetime(df_community[\"datetime\"])  # Ensure datetime is in correct format\n",
    "\n",
    "    # Add feature columns\n",
    "    df_community[\"NL_t-24\"] = df_community[\"NL\"].shift(48)  # Shift by 48 half-hours (1 day)\n",
    "    df_community[\"NL_t-24*7\"] = df_community[\"NL\"].shift(48*7)  # Shift by 336 half-hours (7 days)\n",
    "    df_community[\"NL_t-24*30\"] = df_community[\"NL\"].shift(48*30)  # Shift by 1440 half-hours (30 days)\n",
    "\n",
    "    df_community[\"Month\"] = df_community[\"datetime\"].dt.month  # Extract month from datetime\n",
    "    df_community[\"Season\"] = (df_community[\"Month\"] % 12) // 3 + 1  # Convert month to season (1-4)\n",
    "    df_community[\"is_weekend\"] = (df_community[\"datetime\"].dt.weekday >= 5).astype(int)  # 1 if Saturday or Sunday\n",
    "\n",
    "    # Restrict time from 5am to 8pm\n",
    "    df_community = df_community[(df_community[\"datetime\"].dt.hour >= 5) & (df_community[\"datetime\"].dt.hour <= 20)]\n",
    "\n",
    "    df_community.to_csv(f\"./community_data/{community}.csv\", index=False)\n",
    "    \n",
    "    #df_train_community = df_train[df_train[\"Customer\"].isin(cid)]\n",
    "    #df_test_community = df_test[df_test[\"Customer\"].isin(cid)]\n",
    "    \n",
    "    #df_train_community.to_csv(f\"./community_data/{community}_train.csv\", index=False)\n",
    "    #df_test_community.to_csv(f\"./community_data/{community}_test.csv\", index=False)"
   ]
  }
 ],
 "metadata": {
  "kernelspec": {
   "display_name": ".venv",
   "language": "python",
   "name": "python3"
  },
  "language_info": {
   "codemirror_mode": {
    "name": "ipython",
    "version": 3
   },
   "file_extension": ".py",
   "mimetype": "text/x-python",
   "name": "python",
   "nbconvert_exporter": "python",
   "pygments_lexer": "ipython3",
   "version": "3.12.3"
  }
 },
 "nbformat": 4,
 "nbformat_minor": 5
}
