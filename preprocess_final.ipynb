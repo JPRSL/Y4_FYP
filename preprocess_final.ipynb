{
 "cells": [
  {
   "cell_type": "code",
   "execution_count": 1,
   "metadata": {},
   "outputs": [],
   "source": [
    "import pandas as pd\n",
    "import numpy as np"
   ]
  },
  {
   "cell_type": "code",
   "execution_count": 2,
   "metadata": {},
   "outputs": [],
   "source": [
    "def preprocess(df):\n",
    "    for i in range(1, 301):\n",
    "        customer_data = df[df['Customer'] == i]\n",
    "        customer_data = customer_data.drop(columns=['Generator Capacity', 'Postcode'])\n",
    "\n",
    "        try:\n",
    "            customer_data = pd.melt(customer_data, id_vars=['Customer', 'date', 'Consumption Category', 'Row Quality'], var_name='Time')\n",
    "        except:\n",
    "            customer_data = pd.melt(customer_data, id_vars=['Customer', 'date', 'Consumption Category'], var_name='Time')\n",
    "        #customer_data.to_csv('customer_data.csv', index=False)\n",
    "\n",
    "        customer_data['date'] = customer_data['date'].astype(str)\n",
    "        zero_padded_date = []\n",
    "        for date in customer_data['date']:\n",
    "            if len(date) < 9:\n",
    "                new_date = '0' + date\n",
    "                zero_padded_date.append(new_date)\n",
    "            else:\n",
    "                zero_padded_date.append(date)\n",
    "\n",
    "        customer_data['date'] = zero_padded_date\n",
    "\n",
    "        customer_data['Time'] = customer_data['Time'].astype(str)\n",
    "\n",
    "        customer_data['datetime'] = customer_data['date'] + ' ' + customer_data['Time']\n",
    "        try:\n",
    "            customer_data['datetime'] = pd.to_datetime(customer_data['datetime'], format='%d-%b-%y %H:%M')\n",
    "        except:\n",
    "            customer_data['datetime'] = pd.to_datetime(customer_data['datetime'], format='%d/%m/%Y %H:%M')\n",
    "        customer_data = customer_data.sort_values('datetime')\n",
    "        #customer_data.to_csv('customer_data_new.csv', index=False)\n",
    "        year = customer_data['datetime'].iloc[0].year\n",
    "        year_interval = str(year) + '-' + str(year + 1)\n",
    "        file_name = 'NL_' + year_interval + '_' + str(i) + '.csv'\n",
    "\n",
    "        # Separate consumption categories\n",
    "        gc_data = customer_data[customer_data['Consumption Category'] == 'GC']\n",
    "        cl_data = customer_data[customer_data['Consumption Category'] == 'CL']\n",
    "        gg_data = customer_data[customer_data['Consumption Category'] == 'GG']\n",
    "\n",
    "        gc_data = gc_data.rename(columns = {'value': 'GC'})\n",
    "        cl_data = cl_data.rename(columns = {'value': 'CL'})\n",
    "        gg_data = gg_data.rename(columns = {'value': 'GG'})\n",
    "\n",
    "        gc_data = gc_data.drop(columns=['Consumption Category'])\n",
    "        cl_data = cl_data.drop(columns=['Consumption Category'])\n",
    "        gg_data = gg_data.drop(columns=['Consumption Category'])\n",
    "\n",
    "        gc_data.to_csv('data_gc.csv', index=False)\n",
    "        cl_data.to_csv('data_cl.csv', index=False)\n",
    "        gg_data.to_csv('data_gg.csv', index=False)\n",
    "\n",
    "        if cl_data.empty == False:\n",
    "            nl_data = pd.merge(gc_data, gg_data, on=['Customer', 'date', 'Time', 'datetime'])\n",
    "            nl_data = pd.merge(nl_data, cl_data, on=['Customer', 'date', 'Time', 'datetime'])\n",
    "            nl_data['NL'] = nl_data['GC'] + nl_data['CL'] - nl_data['GG']\n",
    "            nl_data.to_csv('processed_data/' + year_interval + '/' + file_name, index=False)\n",
    "        else:\n",
    "            nl_data = pd.merge(gc_data, gg_data, on=['Customer', 'date', 'Time', 'datetime'])\n",
    "            nl_data['NL'] = nl_data['GC'] - nl_data['GG']\n",
    "            nl_data.to_csv('processed_data/' + year_interval + '/' + file_name, index=False)"
   ]
  },
  {
   "cell_type": "code",
   "execution_count": 3,
   "metadata": {},
   "outputs": [
    {
     "name": "stdout",
     "output_type": "stream",
     "text": [
      "Customer  Generator Capacity  Postcode  Consumption Category  date   00:30  01:00  01:30  02:00  02:30  03:00  03:30  04:00  04:30  05:00  05:30  06:00  06:30  07:00  07:30  08:00  08:30  09:00  09:30  10:00  10:30  11:00  11:30  12:00  12:30  13:00  13:30  14:00  14:30  15:00  15:30  16:00  16:30  17:00  17:30  18:00  18:30  19:00  19:30  20:00  20:30  21:00  21:30  22:00  22:30  23:00  23:30  00:00\n",
      "False     False               False     False                 False  False  False  False  False  False  False  False  False  False  False  False  False  False  False  False  False  False  False  False  False  False  False  False  False  False  False  False  False  False  False  False  False  False  False  False  False  False  False  False  False  False  False  False  False  False  False  False  False    269730\n",
      "                                                                                                                                                                                                                                                    True   False  False  False  False  False  False  False  False  False  False  False  False  False  False  False  False  False  False  False  False  False  False         1\n",
      "                                                                                                                                                                                                   True   False  False  False  False  False  False  False  False  False  False  False  False  False  False  False  False  False  False  False  False  False  False  False  False  False  False  False  False  False         1\n",
      "                                                                                                                                                                       True   False  False  False  False  False  False  False  False  False  False  False  False  False  False  False  False  False  False  False  False  False  False  False  False  False  False  False  False  False  False  False  False  False         1\n",
      "                                                                                                                             True   False  False  False  False  False  False  False  False  False  False  False  False  False  False  False  False  False  False  False  False  False  False  False  False  False  False  False  False  False  False  False  False  False  False  False  False  False  False  False         1\n",
      "                                                                                                        True   False  False  False  False  False  False  False  False  False  False  False  False  False  False  False  False  False  False  False  False  False  False  False  False  False  False  False  False  False  False  False  False  False  False  False  False  False  False  False  False  False  False         1\n",
      "Name: count, dtype: int64\n"
     ]
    }
   ],
   "source": [
    "missing_data = pd.read_csv('raw_data/missing_data_test.csv', skiprows=1)\n",
    "missing_values = missing_data.isnull()\n",
    "print(missing_values.value_counts())"
   ]
  },
  {
   "cell_type": "code",
   "execution_count": 4,
   "metadata": {},
   "outputs": [
    {
     "name": "stdout",
     "output_type": "stream",
     "text": [
      "   Customer  Generator Capacity  Postcode Consumption Category      date  \\\n",
      "0         1                3.78      2076                   GC  1-Jul-10   \n",
      "1         1                3.78      2076                   CL  1-Jul-10   \n",
      "2         1                3.78      2076                   GG  1-Jul-10   \n",
      "3         1                3.78      2076                   GC  2-Jul-10   \n",
      "4         1                3.78      2076                   CL  2-Jul-10   \n",
      "\n",
      "    0:30   1:00   1:30   2:00   2:30  ...  19:30  20:00  20:30  21:00  21:30  \\\n",
      "0  0.303  0.471  0.083  0.121  0.361  ...  0.495   0.54  0.406  0.543  0.495   \n",
      "1  1.250  1.244  1.256  0.744  0.019  ...  0.000   0.00  0.000  0.000  0.000   \n",
      "2  0.000  0.000  0.000  0.000  0.000  ...  0.000   0.00  0.000  0.000  0.000   \n",
      "3  0.116  0.346  0.122  0.079  0.120  ...  0.262   1.10  1.012  0.817  0.526   \n",
      "4  1.238  1.238  1.256  1.250  0.169  ...  0.000   0.00  0.000  0.000  0.000   \n",
      "\n",
      "   22:00  22:30  23:00  23:30   0:00  \n",
      "0  0.216  0.378  0.128  0.078  0.125  \n",
      "1  0.000  0.000  0.000  0.000  1.075  \n",
      "2  0.000  0.000  0.000  0.000  0.000  \n",
      "3  0.335  0.402  0.142  0.120  0.111  \n",
      "4  0.000  0.000  0.000  0.000  1.088  \n",
      "\n",
      "[5 rows x 53 columns]\n"
     ]
    }
   ],
   "source": [
    "y1_data = pd.read_csv('raw_data/2010-2011 Solar home electricity data.csv', skiprows=1)\n",
    "print(y1_data.head())"
   ]
  },
  {
   "cell_type": "code",
   "execution_count": 5,
   "metadata": {},
   "outputs": [],
   "source": [
    "y2_data = pd.read_csv('raw_data/2011-2012 Solar home electricity data v2.csv', skiprows=1)\n",
    "y3_data = pd.read_csv('raw_data/2012-2013 Solar home electricity data v2.csv', skiprows=1)"
   ]
  },
  {
   "cell_type": "code",
   "execution_count": 6,
   "metadata": {},
   "outputs": [
    {
     "name": "stdout",
     "output_type": "stream",
     "text": [
      "Customer  Generator Capacity  Postcode  Consumption Category  date   0:30   1:00   1:30   2:00   2:30   3:00   3:30   4:00   4:30   5:00   5:30   6:00   6:30   7:00   7:30   8:00   8:30   9:00   9:30   10:00  10:30  11:00  11:30  12:00  12:30  13:00  13:30  14:00  14:30  15:00  15:30  16:00  16:30  17:00  17:30  18:00  18:30  19:00  19:30  20:00  20:30  21:00  21:30  22:00  22:30  23:00  23:30  0:00 \n",
      "False     False               False     False                 False  False  False  False  False  False  False  False  False  False  False  False  False  False  False  False  False  False  False  False  False  False  False  False  False  False  False  False  False  False  False  False  False  False  False  False  False  False  False  False  False  False  False  False  False  False  False  False  False    269735\n",
      "Name: count, dtype: int64\n"
     ]
    }
   ],
   "source": [
    "missing_values = y1_data.isnull()\n",
    "print(missing_values.value_counts())"
   ]
  },
  {
   "cell_type": "code",
   "execution_count": 7,
   "metadata": {},
   "outputs": [
    {
     "name": "stdout",
     "output_type": "stream",
     "text": [
      "Customer  Generator Capacity  Postcode  Consumption Category  date   0:30   1:00   1:30   2:00   2:30   3:00   3:30   4:00   4:30   5:00   5:30   6:00   6:30   7:00   7:30   8:00   8:30   9:00   9:30   10:00  10:30  11:00  11:30  12:00  12:30  13:00  13:30  14:00  14:30  15:00  15:30  16:00  16:30  17:00  17:30  18:00  18:30  19:00  19:30  20:00  20:30  21:00  21:30  22:00  22:30  23:00  23:30  0:00   Row Quality\n",
      "False     False               False     False                 False  False  False  False  False  False  False  False  False  False  False  False  False  False  False  False  False  False  False  False  False  False  False  False  False  False  False  False  False  False  False  False  False  False  False  False  False  False  False  False  False  False  False  False  False  False  False  False  False  True           270304\n",
      "Name: count, dtype: int64\n"
     ]
    }
   ],
   "source": [
    "missing_values = y2_data.isnull()\n",
    "print(missing_values.value_counts())"
   ]
  },
  {
   "cell_type": "code",
   "execution_count": 8,
   "metadata": {},
   "outputs": [
    {
     "name": "stdout",
     "output_type": "stream",
     "text": [
      "Customer  Generator Capacity  Postcode  Consumption Category  date   0:30   1:00   1:30   2:00   2:30   3:00   3:30   4:00   4:30   5:00   5:30   6:00   6:30   7:00   7:30   8:00   8:30   9:00   9:30   10:00  10:30  11:00  11:30  12:00  12:30  13:00  13:30  14:00  14:30  15:00  15:30  16:00  16:30  17:00  17:30  18:00  18:30  19:00  19:30  20:00  20:30  21:00  21:30  22:00  22:30  23:00  23:30  0:00   Row Quality\n",
      "False     False               False     False                 False  False  False  False  False  False  False  False  False  False  False  False  False  False  False  False  False  False  False  False  False  False  False  False  False  False  False  False  False  False  False  False  False  False  False  False  False  False  False  False  False  False  False  False  False  False  False  False  False  True           268557\n",
      "Name: count, dtype: int64\n"
     ]
    }
   ],
   "source": [
    "missing_values = y3_data.isnull()\n",
    "print(missing_values.value_counts())"
   ]
  },
  {
   "cell_type": "code",
   "execution_count": 9,
   "metadata": {},
   "outputs": [],
   "source": [
    "preprocess(y1_data)"
   ]
  },
  {
   "cell_type": "code",
   "execution_count": 10,
   "metadata": {},
   "outputs": [],
   "source": [
    "preprocess(y2_data)"
   ]
  },
  {
   "cell_type": "code",
   "execution_count": 11,
   "metadata": {},
   "outputs": [],
   "source": [
    "preprocess(y3_data)"
   ]
  }
 ],
 "metadata": {
  "kernelspec": {
   "display_name": ".venv",
   "language": "python",
   "name": "python3"
  },
  "language_info": {
   "codemirror_mode": {
    "name": "ipython",
    "version": 3
   },
   "file_extension": ".py",
   "mimetype": "text/x-python",
   "name": "python",
   "nbconvert_exporter": "python",
   "pygments_lexer": "ipython3",
   "version": "3.12.3"
  }
 },
 "nbformat": 4,
 "nbformat_minor": 2
}
