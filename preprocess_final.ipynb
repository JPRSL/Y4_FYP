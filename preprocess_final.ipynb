{
 "cells": [
  {
   "cell_type": "code",
   "execution_count": 1,
   "metadata": {},
   "outputs": [],
   "source": [
    "import pandas as pd\n",
    "import numpy as np\n",
    "import glob"
   ]
  },
  {
   "cell_type": "code",
   "execution_count": null,
   "metadata": {},
   "outputs": [],
   "source": [
    "# Function to preprocess yearly household data\n",
    "def preprocess(df):\n",
    "    # loop through 300 customers\n",
    "    for i in range(1, 301):\n",
    "        customer_data = df[df['Customer'] == i]\n",
    "        # Remove unnecessary columns\n",
    "        customer_data = customer_data.drop(columns=['Generator Capacity', 'Postcode'])\n",
    "\n",
    "        # Reshape data into long format\n",
    "        try:\n",
    "            customer_data = pd.melt(customer_data, id_vars=['Customer', 'date', 'Consumption Category', 'Row Quality'], var_name='Time')\n",
    "        except:\n",
    "            customer_data = pd.melt(customer_data, id_vars=['Customer', 'date', 'Consumption Category'], var_name='Time')\n",
    "        #customer_data.to_csv('customer_data.csv', index=False)\n",
    "\n",
    "        # Zero pad date to format before conversion\n",
    "        customer_data['date'] = customer_data['date'].astype(str)\n",
    "        zero_padded_date = []\n",
    "        for date in customer_data['date']:\n",
    "            if len(date) < 9:\n",
    "                new_date = '0' + date\n",
    "                zero_padded_date.append(new_date)\n",
    "            else:\n",
    "                zero_padded_date.append(date)\n",
    "\n",
    "        customer_data['date'] = zero_padded_date\n",
    "\n",
    "        customer_data['Time'] = customer_data['Time'].astype(str)\n",
    "        \n",
    "        customer_data['datetime'] = customer_data['date'] + ' ' + customer_data['Time']\n",
    "\n",
    "        # Convert to datetime format\n",
    "        try:\n",
    "            customer_data['datetime'] = pd.to_datetime(customer_data['datetime'], format='%d-%b-%y %H:%M')\n",
    "        except:\n",
    "            customer_data['datetime'] = pd.to_datetime(customer_data['datetime'], format='%d/%m/%Y %H:%M')\n",
    "        customer_data = customer_data.sort_values('datetime')\n",
    "        #customer_data.to_csv('customer_data_new.csv', index=False)\n",
    "\n",
    "        # Create file name for each individual customer\n",
    "        year = customer_data['datetime'].iloc[0].year\n",
    "        year_interval = str(year) + '-' + str(year + 1)\n",
    "        file_name = 'NL_' + year_interval + '_' + str(i) + '.csv'\n",
    "\n",
    "        # Separate consumption categories\n",
    "        gc_data = customer_data[customer_data['Consumption Category'] == 'GC']\n",
    "        cl_data = customer_data[customer_data['Consumption Category'] == 'CL']\n",
    "        gg_data = customer_data[customer_data['Consumption Category'] == 'GG']\n",
    "\n",
    "        gc_data = gc_data.rename(columns = {'value': 'GC'})\n",
    "        cl_data = cl_data.rename(columns = {'value': 'CL'})\n",
    "        gg_data = gg_data.rename(columns = {'value': 'GG'})\n",
    "\n",
    "        gc_data = gc_data.drop(columns=['Consumption Category'])\n",
    "        cl_data = cl_data.drop(columns=['Consumption Category'])\n",
    "        gg_data = gg_data.drop(columns=['Consumption Category'])\n",
    "\n",
    "        gc_data.to_csv('data_gc.csv', index=False)\n",
    "        cl_data.to_csv('data_cl.csv', index=False)\n",
    "        gg_data.to_csv('data_gg.csv', index=False)\n",
    "\n",
    "        # Compute net load depending on presence of CL\n",
    "        if cl_data.empty == False:\n",
    "            nl_data = pd.merge(gc_data, gg_data, on=['Customer', 'date', 'Time', 'datetime'], how='outer')\n",
    "            nl_data = pd.merge(nl_data, cl_data, on=['Customer', 'date', 'Time', 'datetime'], how='outer')\n",
    "\n",
    "            # Sort the merged data by datetime\n",
    "            nl_data = nl_data.sort_values('datetime')\n",
    "\n",
    "            # Fill NaN values with 0\n",
    "            nl_data = nl_data.fillna(0)\n",
    "\n",
    "            # Calculate net load\n",
    "            nl_data['NL'] = nl_data['GC'] + nl_data['CL'] - nl_data['GG']\n",
    "            nl_data.to_csv('processed_data/' + year_interval + '/' + file_name, index=False)\n",
    "        else:\n",
    "            nl_data = pd.merge(gc_data, gg_data, on=['Customer', 'date', 'Time', 'datetime'])\n",
    "            nl_data['NL'] = nl_data['GC'] - nl_data['GG']\n",
    "            nl_data.to_csv('processed_data/' + year_interval + '/' + file_name, index=False)"
   ]
  },
  {
   "cell_type": "code",
   "execution_count": 3,
   "metadata": {},
   "outputs": [
    {
     "name": "stdout",
     "output_type": "stream",
     "text": [
      "Customer  Generator Capacity  Postcode  Consumption Category  date   00:30  01:00  01:30  02:00  02:30  03:00  03:30  04:00  04:30  05:00  05:30  06:00  06:30  07:00  07:30  08:00  08:30  09:00  09:30  10:00  10:30  11:00  11:30  12:00  12:30  13:00  13:30  14:00  14:30  15:00  15:30  16:00  16:30  17:00  17:30  18:00  18:30  19:00  19:30  20:00  20:30  21:00  21:30  22:00  22:30  23:00  23:30  00:00\n",
      "False     False               False     False                 False  False  False  False  False  False  False  False  False  False  False  False  False  False  False  False  False  False  False  False  False  False  False  False  False  False  False  False  False  False  False  False  False  False  False  False  False  False  False  False  False  False  False  False  False  False  False  False  False    269730\n",
      "                                                                                                                                                                                                                                                    True   False  False  False  False  False  False  False  False  False  False  False  False  False  False  False  False  False  False  False  False  False  False         1\n",
      "                                                                                                                                                                                                   True   False  False  False  False  False  False  False  False  False  False  False  False  False  False  False  False  False  False  False  False  False  False  False  False  False  False  False  False  False         1\n",
      "                                                                                                                                                                       True   False  False  False  False  False  False  False  False  False  False  False  False  False  False  False  False  False  False  False  False  False  False  False  False  False  False  False  False  False  False  False  False  False         1\n",
      "                                                                                                                             True   False  False  False  False  False  False  False  False  False  False  False  False  False  False  False  False  False  False  False  False  False  False  False  False  False  False  False  False  False  False  False  False  False  False  False  False  False  False  False         1\n",
      "                                                                                                        True   False  False  False  False  False  False  False  False  False  False  False  False  False  False  False  False  False  False  False  False  False  False  False  False  False  False  False  False  False  False  False  False  False  False  False  False  False  False  False  False  False  False         1\n",
      "Name: count, dtype: int64\n"
     ]
    }
   ],
   "source": [
    "# Test for detecting whether missing data is present\n",
    "missing_data = pd.read_csv('raw_data/missing_data_test.csv', skiprows=1)\n",
    "missing_values = missing_data.isnull()\n",
    "print(missing_values.value_counts())"
   ]
  },
  {
   "cell_type": "code",
   "execution_count": 4,
   "metadata": {},
   "outputs": [
    {
     "data": {
      "application/vnd.microsoft.datawrangler.viewer.v0+json": {
       "columns": [
        {
         "name": "index",
         "rawType": "int64",
         "type": "integer"
        },
        {
         "name": "Customer",
         "rawType": "int64",
         "type": "integer"
        },
        {
         "name": "Generator Capacity",
         "rawType": "float64",
         "type": "float"
        },
        {
         "name": "Postcode",
         "rawType": "int64",
         "type": "integer"
        },
        {
         "name": "Consumption Category",
         "rawType": "object",
         "type": "string"
        },
        {
         "name": "date",
         "rawType": "object",
         "type": "string"
        },
        {
         "name": "0:30",
         "rawType": "float64",
         "type": "float"
        },
        {
         "name": "1:00",
         "rawType": "float64",
         "type": "float"
        },
        {
         "name": "1:30",
         "rawType": "float64",
         "type": "float"
        },
        {
         "name": "2:00",
         "rawType": "float64",
         "type": "float"
        },
        {
         "name": "2:30",
         "rawType": "float64",
         "type": "float"
        },
        {
         "name": "3:00",
         "rawType": "float64",
         "type": "float"
        },
        {
         "name": "3:30",
         "rawType": "float64",
         "type": "float"
        },
        {
         "name": "4:00",
         "rawType": "float64",
         "type": "float"
        },
        {
         "name": "4:30",
         "rawType": "float64",
         "type": "float"
        },
        {
         "name": "5:00",
         "rawType": "float64",
         "type": "float"
        },
        {
         "name": "5:30",
         "rawType": "float64",
         "type": "float"
        },
        {
         "name": "6:00",
         "rawType": "float64",
         "type": "float"
        },
        {
         "name": "6:30",
         "rawType": "float64",
         "type": "float"
        },
        {
         "name": "7:00",
         "rawType": "float64",
         "type": "float"
        },
        {
         "name": "7:30",
         "rawType": "float64",
         "type": "float"
        },
        {
         "name": "8:00",
         "rawType": "float64",
         "type": "float"
        },
        {
         "name": "8:30",
         "rawType": "float64",
         "type": "float"
        },
        {
         "name": "9:00",
         "rawType": "float64",
         "type": "float"
        },
        {
         "name": "9:30",
         "rawType": "float64",
         "type": "float"
        },
        {
         "name": "10:00",
         "rawType": "float64",
         "type": "float"
        },
        {
         "name": "10:30",
         "rawType": "float64",
         "type": "float"
        },
        {
         "name": "11:00",
         "rawType": "float64",
         "type": "float"
        },
        {
         "name": "11:30",
         "rawType": "float64",
         "type": "float"
        },
        {
         "name": "12:00",
         "rawType": "float64",
         "type": "float"
        },
        {
         "name": "12:30",
         "rawType": "float64",
         "type": "float"
        },
        {
         "name": "13:00",
         "rawType": "float64",
         "type": "float"
        },
        {
         "name": "13:30",
         "rawType": "float64",
         "type": "float"
        },
        {
         "name": "14:00",
         "rawType": "float64",
         "type": "float"
        },
        {
         "name": "14:30",
         "rawType": "float64",
         "type": "float"
        },
        {
         "name": "15:00",
         "rawType": "float64",
         "type": "float"
        },
        {
         "name": "15:30",
         "rawType": "float64",
         "type": "float"
        },
        {
         "name": "16:00",
         "rawType": "float64",
         "type": "float"
        },
        {
         "name": "16:30",
         "rawType": "float64",
         "type": "float"
        },
        {
         "name": "17:00",
         "rawType": "float64",
         "type": "float"
        },
        {
         "name": "17:30",
         "rawType": "float64",
         "type": "float"
        },
        {
         "name": "18:00",
         "rawType": "float64",
         "type": "float"
        },
        {
         "name": "18:30",
         "rawType": "float64",
         "type": "float"
        },
        {
         "name": "19:00",
         "rawType": "float64",
         "type": "float"
        },
        {
         "name": "19:30",
         "rawType": "float64",
         "type": "float"
        },
        {
         "name": "20:00",
         "rawType": "float64",
         "type": "float"
        },
        {
         "name": "20:30",
         "rawType": "float64",
         "type": "float"
        },
        {
         "name": "21:00",
         "rawType": "float64",
         "type": "float"
        },
        {
         "name": "21:30",
         "rawType": "float64",
         "type": "float"
        },
        {
         "name": "22:00",
         "rawType": "float64",
         "type": "float"
        },
        {
         "name": "22:30",
         "rawType": "float64",
         "type": "float"
        },
        {
         "name": "23:00",
         "rawType": "float64",
         "type": "float"
        },
        {
         "name": "23:30",
         "rawType": "float64",
         "type": "float"
        },
        {
         "name": "0:00",
         "rawType": "float64",
         "type": "float"
        }
       ],
       "ref": "e4042beb-3369-4e28-add3-dd371a3621a6",
       "rows": [
        [
         "0",
         "1",
         "3.78",
         "2076",
         "GC",
         "1-Jul-10",
         "0.303",
         "0.471",
         "0.083",
         "0.121",
         "0.361",
         "0.079",
         "0.122",
         "0.098",
         "0.104",
         "0.369",
         "0.078",
         "0.118",
         "0.108",
         "0.362",
         "0.797",
         "0.832",
         "0.28",
         "0.328",
         "0.358",
         "0.208",
         "0.614",
         "0.845",
         "1.348",
         "1.6",
         "1.889",
         "1.472",
         "1.207",
         "0.442",
         "1.068",
         "1.849",
         "1.846",
         "1.82",
         "1.961",
         "1.588",
         "1.746",
         "0.91",
         "0.213",
         "0.582",
         "0.495",
         "0.54",
         "0.406",
         "0.543",
         "0.495",
         "0.216",
         "0.378",
         "0.128",
         "0.078",
         "0.125"
        ],
        [
         "1",
         "1",
         "3.78",
         "2076",
         "CL",
         "1-Jul-10",
         "1.25",
         "1.244",
         "1.256",
         "0.744",
         "0.019",
         "1.25",
         "0.069",
         "0.0",
         "0.0",
         "0.869",
         "0.169",
         "0.0",
         "0.0",
         "0.0",
         "0.0",
         "0.0",
         "0.0",
         "0.0",
         "0.0",
         "0.0",
         "0.0",
         "0.0",
         "0.0",
         "0.0",
         "0.0",
         "0.0",
         "0.0",
         "0.0",
         "0.0",
         "0.0",
         "0.0",
         "0.0",
         "0.0",
         "0.0",
         "0.0",
         "0.0",
         "0.0",
         "0.0",
         "0.0",
         "0.0",
         "0.0",
         "0.0",
         "0.0",
         "0.0",
         "0.0",
         "0.0",
         "0.0",
         "1.075"
        ],
        [
         "2",
         "1",
         "3.78",
         "2076",
         "GG",
         "1-Jul-10",
         "0.0",
         "0.0",
         "0.0",
         "0.0",
         "0.0",
         "0.0",
         "0.0",
         "0.0",
         "0.0",
         "0.0",
         "0.0",
         "0.0",
         "0.0",
         "0.0",
         "0.006",
         "0.019",
         "0.056",
         "0.056",
         "0.2",
         "0.456",
         "0.713",
         "0.638",
         "0.669",
         "0.738",
         "1.05",
         "1.125",
         "1.181",
         "1.15",
         "1.031",
         "0.663",
         "0.15",
         "0.088",
         "0.031",
         "0.0",
         "0.0",
         "0.0",
         "0.0",
         "0.0",
         "0.0",
         "0.0",
         "0.0",
         "0.0",
         "0.0",
         "0.0",
         "0.0",
         "0.0",
         "0.0",
         "0.0"
        ],
        [
         "3",
         "1",
         "3.78",
         "2076",
         "GC",
         "2-Jul-10",
         "0.116",
         "0.346",
         "0.122",
         "0.079",
         "0.12",
         "0.107",
         "0.343",
         "0.12",
         "0.08",
         "0.122",
         "0.365",
         "0.084",
         "0.116",
         "0.08",
         "0.797",
         "1.06",
         "0.269",
         "0.309",
         "0.164",
         "0.631",
         "1.486",
         "1.366",
         "1.466",
         "1.191",
         "1.226",
         "1.628",
         "0.617",
         "1.165",
         "1.154",
         "1.104",
         "0.375",
         "0.118",
         "0.235",
         "0.445",
         "1.183",
         "1.19",
         "0.555",
         "0.405",
         "0.262",
         "1.1",
         "1.012",
         "0.817",
         "0.526",
         "0.335",
         "0.402",
         "0.142",
         "0.12",
         "0.111"
        ],
        [
         "4",
         "1",
         "3.78",
         "2076",
         "CL",
         "2-Jul-10",
         "1.238",
         "1.238",
         "1.256",
         "1.25",
         "0.169",
         "0.594",
         "0.688",
         "0.0",
         "0.0",
         "0.456",
         "0.669",
         "0.0",
         "0.0",
         "0.0",
         "0.0",
         "0.0",
         "0.0",
         "0.0",
         "0.0",
         "0.0",
         "0.0",
         "0.0",
         "0.0",
         "0.0",
         "0.0",
         "0.0",
         "0.0",
         "0.0",
         "0.0",
         "0.0",
         "0.0",
         "0.0",
         "0.0",
         "0.0",
         "0.0",
         "0.0",
         "0.0",
         "0.0",
         "0.0",
         "0.0",
         "0.0",
         "0.0",
         "0.0",
         "0.0",
         "0.0",
         "0.0",
         "0.0",
         "1.088"
        ]
       ],
       "shape": {
        "columns": 53,
        "rows": 5
       }
      },
      "text/html": [
       "<div>\n",
       "<style scoped>\n",
       "    .dataframe tbody tr th:only-of-type {\n",
       "        vertical-align: middle;\n",
       "    }\n",
       "\n",
       "    .dataframe tbody tr th {\n",
       "        vertical-align: top;\n",
       "    }\n",
       "\n",
       "    .dataframe thead th {\n",
       "        text-align: right;\n",
       "    }\n",
       "</style>\n",
       "<table border=\"1\" class=\"dataframe\">\n",
       "  <thead>\n",
       "    <tr style=\"text-align: right;\">\n",
       "      <th></th>\n",
       "      <th>Customer</th>\n",
       "      <th>Generator Capacity</th>\n",
       "      <th>Postcode</th>\n",
       "      <th>Consumption Category</th>\n",
       "      <th>date</th>\n",
       "      <th>0:30</th>\n",
       "      <th>1:00</th>\n",
       "      <th>1:30</th>\n",
       "      <th>2:00</th>\n",
       "      <th>2:30</th>\n",
       "      <th>...</th>\n",
       "      <th>19:30</th>\n",
       "      <th>20:00</th>\n",
       "      <th>20:30</th>\n",
       "      <th>21:00</th>\n",
       "      <th>21:30</th>\n",
       "      <th>22:00</th>\n",
       "      <th>22:30</th>\n",
       "      <th>23:00</th>\n",
       "      <th>23:30</th>\n",
       "      <th>0:00</th>\n",
       "    </tr>\n",
       "  </thead>\n",
       "  <tbody>\n",
       "    <tr>\n",
       "      <th>0</th>\n",
       "      <td>1</td>\n",
       "      <td>3.78</td>\n",
       "      <td>2076</td>\n",
       "      <td>GC</td>\n",
       "      <td>1-Jul-10</td>\n",
       "      <td>0.303</td>\n",
       "      <td>0.471</td>\n",
       "      <td>0.083</td>\n",
       "      <td>0.121</td>\n",
       "      <td>0.361</td>\n",
       "      <td>...</td>\n",
       "      <td>0.495</td>\n",
       "      <td>0.54</td>\n",
       "      <td>0.406</td>\n",
       "      <td>0.543</td>\n",
       "      <td>0.495</td>\n",
       "      <td>0.216</td>\n",
       "      <td>0.378</td>\n",
       "      <td>0.128</td>\n",
       "      <td>0.078</td>\n",
       "      <td>0.125</td>\n",
       "    </tr>\n",
       "    <tr>\n",
       "      <th>1</th>\n",
       "      <td>1</td>\n",
       "      <td>3.78</td>\n",
       "      <td>2076</td>\n",
       "      <td>CL</td>\n",
       "      <td>1-Jul-10</td>\n",
       "      <td>1.250</td>\n",
       "      <td>1.244</td>\n",
       "      <td>1.256</td>\n",
       "      <td>0.744</td>\n",
       "      <td>0.019</td>\n",
       "      <td>...</td>\n",
       "      <td>0.000</td>\n",
       "      <td>0.00</td>\n",
       "      <td>0.000</td>\n",
       "      <td>0.000</td>\n",
       "      <td>0.000</td>\n",
       "      <td>0.000</td>\n",
       "      <td>0.000</td>\n",
       "      <td>0.000</td>\n",
       "      <td>0.000</td>\n",
       "      <td>1.075</td>\n",
       "    </tr>\n",
       "    <tr>\n",
       "      <th>2</th>\n",
       "      <td>1</td>\n",
       "      <td>3.78</td>\n",
       "      <td>2076</td>\n",
       "      <td>GG</td>\n",
       "      <td>1-Jul-10</td>\n",
       "      <td>0.000</td>\n",
       "      <td>0.000</td>\n",
       "      <td>0.000</td>\n",
       "      <td>0.000</td>\n",
       "      <td>0.000</td>\n",
       "      <td>...</td>\n",
       "      <td>0.000</td>\n",
       "      <td>0.00</td>\n",
       "      <td>0.000</td>\n",
       "      <td>0.000</td>\n",
       "      <td>0.000</td>\n",
       "      <td>0.000</td>\n",
       "      <td>0.000</td>\n",
       "      <td>0.000</td>\n",
       "      <td>0.000</td>\n",
       "      <td>0.000</td>\n",
       "    </tr>\n",
       "    <tr>\n",
       "      <th>3</th>\n",
       "      <td>1</td>\n",
       "      <td>3.78</td>\n",
       "      <td>2076</td>\n",
       "      <td>GC</td>\n",
       "      <td>2-Jul-10</td>\n",
       "      <td>0.116</td>\n",
       "      <td>0.346</td>\n",
       "      <td>0.122</td>\n",
       "      <td>0.079</td>\n",
       "      <td>0.120</td>\n",
       "      <td>...</td>\n",
       "      <td>0.262</td>\n",
       "      <td>1.10</td>\n",
       "      <td>1.012</td>\n",
       "      <td>0.817</td>\n",
       "      <td>0.526</td>\n",
       "      <td>0.335</td>\n",
       "      <td>0.402</td>\n",
       "      <td>0.142</td>\n",
       "      <td>0.120</td>\n",
       "      <td>0.111</td>\n",
       "    </tr>\n",
       "    <tr>\n",
       "      <th>4</th>\n",
       "      <td>1</td>\n",
       "      <td>3.78</td>\n",
       "      <td>2076</td>\n",
       "      <td>CL</td>\n",
       "      <td>2-Jul-10</td>\n",
       "      <td>1.238</td>\n",
       "      <td>1.238</td>\n",
       "      <td>1.256</td>\n",
       "      <td>1.250</td>\n",
       "      <td>0.169</td>\n",
       "      <td>...</td>\n",
       "      <td>0.000</td>\n",
       "      <td>0.00</td>\n",
       "      <td>0.000</td>\n",
       "      <td>0.000</td>\n",
       "      <td>0.000</td>\n",
       "      <td>0.000</td>\n",
       "      <td>0.000</td>\n",
       "      <td>0.000</td>\n",
       "      <td>0.000</td>\n",
       "      <td>1.088</td>\n",
       "    </tr>\n",
       "  </tbody>\n",
       "</table>\n",
       "<p>5 rows × 53 columns</p>\n",
       "</div>"
      ],
      "text/plain": [
       "   Customer  Generator Capacity  Postcode Consumption Category      date  \\\n",
       "0         1                3.78      2076                   GC  1-Jul-10   \n",
       "1         1                3.78      2076                   CL  1-Jul-10   \n",
       "2         1                3.78      2076                   GG  1-Jul-10   \n",
       "3         1                3.78      2076                   GC  2-Jul-10   \n",
       "4         1                3.78      2076                   CL  2-Jul-10   \n",
       "\n",
       "    0:30   1:00   1:30   2:00   2:30  ...  19:30  20:00  20:30  21:00  21:30  \\\n",
       "0  0.303  0.471  0.083  0.121  0.361  ...  0.495   0.54  0.406  0.543  0.495   \n",
       "1  1.250  1.244  1.256  0.744  0.019  ...  0.000   0.00  0.000  0.000  0.000   \n",
       "2  0.000  0.000  0.000  0.000  0.000  ...  0.000   0.00  0.000  0.000  0.000   \n",
       "3  0.116  0.346  0.122  0.079  0.120  ...  0.262   1.10  1.012  0.817  0.526   \n",
       "4  1.238  1.238  1.256  1.250  0.169  ...  0.000   0.00  0.000  0.000  0.000   \n",
       "\n",
       "   22:00  22:30  23:00  23:30   0:00  \n",
       "0  0.216  0.378  0.128  0.078  0.125  \n",
       "1  0.000  0.000  0.000  0.000  1.075  \n",
       "2  0.000  0.000  0.000  0.000  0.000  \n",
       "3  0.335  0.402  0.142  0.120  0.111  \n",
       "4  0.000  0.000  0.000  0.000  1.088  \n",
       "\n",
       "[5 rows x 53 columns]"
      ]
     },
     "execution_count": 4,
     "metadata": {},
     "output_type": "execute_result"
    }
   ],
   "source": [
    "y1_data = pd.read_csv('raw_data/2010-2011 Solar home electricity data.csv', skiprows=1)\n",
    "y1_data.head()"
   ]
  },
  {
   "cell_type": "code",
   "execution_count": 5,
   "metadata": {},
   "outputs": [],
   "source": [
    "y2_data = pd.read_csv('raw_data/2011-2012 Solar home electricity data v2.csv', skiprows=1)\n",
    "y3_data = pd.read_csv('raw_data/2012-2013 Solar home electricity data v2.csv', skiprows=1)"
   ]
  },
  {
   "cell_type": "code",
   "execution_count": 6,
   "metadata": {},
   "outputs": [
    {
     "name": "stdout",
     "output_type": "stream",
     "text": [
      "Customer  Generator Capacity  Postcode  Consumption Category  date   0:30   1:00   1:30   2:00   2:30   3:00   3:30   4:00   4:30   5:00   5:30   6:00   6:30   7:00   7:30   8:00   8:30   9:00   9:30   10:00  10:30  11:00  11:30  12:00  12:30  13:00  13:30  14:00  14:30  15:00  15:30  16:00  16:30  17:00  17:30  18:00  18:30  19:00  19:30  20:00  20:30  21:00  21:30  22:00  22:30  23:00  23:30  0:00 \n",
      "False     False               False     False                 False  False  False  False  False  False  False  False  False  False  False  False  False  False  False  False  False  False  False  False  False  False  False  False  False  False  False  False  False  False  False  False  False  False  False  False  False  False  False  False  False  False  False  False  False  False  False  False  False    269735\n",
      "Name: count, dtype: int64\n"
     ]
    }
   ],
   "source": [
    "missing_values = y1_data.isnull()\n",
    "print(missing_values.value_counts())"
   ]
  },
  {
   "cell_type": "code",
   "execution_count": 7,
   "metadata": {},
   "outputs": [
    {
     "name": "stdout",
     "output_type": "stream",
     "text": [
      "Customer  Generator Capacity  Postcode  Consumption Category  date   0:30   1:00   1:30   2:00   2:30   3:00   3:30   4:00   4:30   5:00   5:30   6:00   6:30   7:00   7:30   8:00   8:30   9:00   9:30   10:00  10:30  11:00  11:30  12:00  12:30  13:00  13:30  14:00  14:30  15:00  15:30  16:00  16:30  17:00  17:30  18:00  18:30  19:00  19:30  20:00  20:30  21:00  21:30  22:00  22:30  23:00  23:30  0:00   Row Quality\n",
      "False     False               False     False                 False  False  False  False  False  False  False  False  False  False  False  False  False  False  False  False  False  False  False  False  False  False  False  False  False  False  False  False  False  False  False  False  False  False  False  False  False  False  False  False  False  False  False  False  False  False  False  False  False  True           270304\n",
      "Name: count, dtype: int64\n"
     ]
    }
   ],
   "source": [
    "missing_values = y2_data.isnull()\n",
    "print(missing_values.value_counts())"
   ]
  },
  {
   "cell_type": "code",
   "execution_count": 8,
   "metadata": {},
   "outputs": [
    {
     "name": "stdout",
     "output_type": "stream",
     "text": [
      "Customer  Generator Capacity  Postcode  Consumption Category  date   0:30   1:00   1:30   2:00   2:30   3:00   3:30   4:00   4:30   5:00   5:30   6:00   6:30   7:00   7:30   8:00   8:30   9:00   9:30   10:00  10:30  11:00  11:30  12:00  12:30  13:00  13:30  14:00  14:30  15:00  15:30  16:00  16:30  17:00  17:30  18:00  18:30  19:00  19:30  20:00  20:30  21:00  21:30  22:00  22:30  23:00  23:30  0:00   Row Quality\n",
      "False     False               False     False                 False  False  False  False  False  False  False  False  False  False  False  False  False  False  False  False  False  False  False  False  False  False  False  False  False  False  False  False  False  False  False  False  False  False  False  False  False  False  False  False  False  False  False  False  False  False  False  False  False  True           268557\n",
      "Name: count, dtype: int64\n"
     ]
    }
   ],
   "source": [
    "missing_values = y3_data.isnull()\n",
    "print(missing_values.value_counts())"
   ]
  },
  {
   "cell_type": "code",
   "execution_count": 9,
   "metadata": {},
   "outputs": [],
   "source": [
    "preprocess(y1_data)"
   ]
  },
  {
   "cell_type": "code",
   "execution_count": 10,
   "metadata": {},
   "outputs": [],
   "source": [
    "preprocess(y2_data)"
   ]
  },
  {
   "cell_type": "code",
   "execution_count": 11,
   "metadata": {},
   "outputs": [],
   "source": [
    "preprocess(y3_data)"
   ]
  },
  {
   "cell_type": "code",
   "execution_count": 12,
   "metadata": {},
   "outputs": [
    {
     "name": "stdout",
     "output_type": "stream",
     "text": [
      "File ./processed_data/2012-2013/NL_2012-2013_2.csv has missing dates: 284 unique dates found.\n"
     ]
    }
   ],
   "source": [
    "for folder in [\"2010-2011\", \"2011-2012\", \"2012-2013\"]:\n",
    "    for file in glob.glob(f\"./processed_data/{folder}/*.csv\"):\n",
    "        # Print unique dates in the 'datetime' column\n",
    "        df = pd.read_csv(file)\n",
    "        df[\"datetime\"] = pd.to_datetime(df[\"datetime\"])\n",
    "        unique_dates = df[\"datetime\"].dt.date.unique()\n",
    "\n",
    "        # Print files with missing dates\n",
    "        if len(unique_dates) < 365:\n",
    "            print(f\"File {file} has missing dates: {len(unique_dates)} unique dates found.\")\n",
    "\n",
    "        #print(f\"Unique dates in {file}: {unique_dates}\")\n",
    "        #print(f\"Number of unique dates in {file}: {len(unique_dates)}\")"
   ]
  }
 ],
 "metadata": {
  "kernelspec": {
   "display_name": ".venv",
   "language": "python",
   "name": "python3"
  },
  "language_info": {
   "codemirror_mode": {
    "name": "ipython",
    "version": 3
   },
   "file_extension": ".py",
   "mimetype": "text/x-python",
   "name": "python",
   "nbconvert_exporter": "python",
   "pygments_lexer": "ipython3",
   "version": "3.12.3"
  }
 },
 "nbformat": 4,
 "nbformat_minor": 2
}
